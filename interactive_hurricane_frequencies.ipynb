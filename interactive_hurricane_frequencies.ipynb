{
 "cells": [
  {
   "cell_type": "markdown",
   "metadata": {},
   "source": [
    "# Interactive Hurricane Frequencies Plot\n",
    "\n",
    "This script generates simulated hurricane frequency data for a user-inputted number of years into the future and answers the question, how much would the slope of the hurricane frequency function have to increase for the increase to be statistically detectable at the end year. \n",
    "\n",
    "\n",
    "For example, if the year 2054 is chosen, what would the slope of the hurricane frequency function have to be in order to detect that the frequency of hurricanes has been increasing, if we were asking this question in 2054. \n",
    "\n",
    "### Methods\n",
    "\n",
    "normal distribution modeling, p-value analysis, "
   ]
  },
  {
   "cell_type": "code",
   "execution_count": 103,
   "metadata": {},
   "outputs": [],
   "source": [
    "import pandas as pd\n",
    "import seaborn as sns\n",
    "import matplotlib.pyplot as plt\n",
    "from scipy.stats import linregress\n",
    "import numpy as np\n",
    "import ipywidgets as widgets\n",
    "from ipywidgets import interactive"
   ]
  },
  {
   "cell_type": "code",
   "execution_count": 104,
   "metadata": {},
   "outputs": [],
   "source": [
    "def line(mean_hurricanes, slope, years, model_cutoff_year):\n",
    "    \"\"\"\n",
    "    Calculates number of hurricanes for a linear model given a slope and year values\n",
    "\n",
    "    Parameters:\n",
    "    mean_hurricanes (float): Mean number of hurricanes in observed data\n",
    "    slope (float or int): slope of the line\n",
    "    years (numpy array): Array of years\n",
    "    model_cutoff_year (int): Reference year for the model\n",
    "\n",
    "    Returns:\n",
    "    y (numpy array): Array of number of hurricanes\n",
    "    \"\"\"\n",
    "    y = mean_hurricanes + slope * (years - model_cutoff_year)\n",
    "    return y"
   ]
  },
  {
   "cell_type": "code",
   "execution_count": 105,
   "metadata": {},
   "outputs": [],
   "source": [
    "def simulate_hurricanes(slope, std, mean_hurricanes, first_sim_year=2024, time_range=30):\n",
    "    \"\"\"\n",
    "    Simulates hurricane frequency based on the provided slope and time range.\n",
    "\n",
    "    Parameters:\n",
    "    slope (float or int): Desired slope for the model.\n",
    "    std (float or int): standard deviation of the observed frequency distribution of hurricanes\n",
    "    first_sim_year (int): the first yuear for simulation, defaults to 2024.\n",
    "    time_range (int): Number of years to simulate, defaults to 30\n",
    "    \n",
    "\n",
    "    Returns:\n",
    "    sim (pandas DataFrame): Simulated data as a DataFrame.\n",
    "    \"\"\"\n",
    "    x = np.linspace(first_sim_year, first_sim_year + time_range - 1, time_range).astype(int)\n",
    "    y = line(mean_hurricanes=mean_hurricanes, slope=slope, years=x, model_cutoff_year=first_sim_year)\n",
    "    simulated_n = np.random.normal(y, scale=std).round()\n",
    "\n",
    "    sim = pd.DataFrame({'Year': x, 'n_hurricanes': simulated_n}, dtype='Int32')\n",
    "    return sim"
   ]
  },
  {
   "cell_type": "code",
   "execution_count": 106,
   "metadata": {},
   "outputs": [],
   "source": [
    "def linear_fit(x, y):\n",
    "    \"\"\"\n",
    "    Fit a line to the provided x and y values and print the slope, p-value, and the decision based on the p-value.\n",
    "    \"\"\"\n",
    "    # Perform linear regression using scipy's linregress function\n",
    "    slope, intercept, r_value, p_value, std_err = linregress(x, y)\n",
    "\n",
    "    # Print results to evaluate if the slope is consistent with no slope\n",
    "    print(f\"Slope: {slope}\")\n",
    "    print(f\"P-value: {p_value}\")\n",
    "\n",
    "    # Decision based on p-value\n",
    "    if p_value > 0.05:\n",
    "        print(\"The slope is not significantly different from zero (consistent with no slope).\")\n",
    "    else:\n",
    "        print(\"The slope is significantly different from zero.\")\n",
    "\n",
    "    return slope, intercept, r_value, p_value, std_err"
   ]
  },
  {
   "cell_type": "code",
   "execution_count": 107,
   "metadata": {},
   "outputs": [],
   "source": [
    "def plot_data(df, first_sim_year):\n",
    "    \"\"\"\n",
    "    Plots the hurricane data, both observed and simulated\n",
    "\n",
    "    Parameters:\n",
    "    df (pd.DataFrame): Data containing 'Year' and 'n_hurricanes'\n",
    "    slope (float): desired slope for the model.\n",
    "    time_range (int): number of years simulated.\n",
    "    model_cutoff_year(int): Reference year for the model\n",
    "    \"\"\"\n",
    "    fig, ax = plt.subplots()\n",
    "\n",
    "    df_original = df[df['Year'] < first_sim_year]\n",
    "    df_simulated = df[df['Year'] >= first_sim_year]\n",
    "\n",
    "    ax.scatter(df_original['Year'], df_original['n_hurricanes'], color='blue', label='Original Data')\n",
    "    ax.scatter(df_simulated['Year'], df_simulated['n_hurricanes'], color='orange', label='Simulated Data')\n",
    "\n",
    "    # Plot the fit line\n",
    "    fit_slope, fit_intercept, _, p_value, _ = linear_fit(df['Year'], df['n_hurricanes'])\n",
    "    ax.plot(df['Year'], fit_slope * df['Year'] + fit_intercept, color='red', label='Fit Line')\n",
    "\n",
    "    # Display whether the slope is consistent with 0\n",
    "    if p_value < 0.05:\n",
    "        conclusion = \"Slope significantly different from 0 (p < 0.05)\"\n",
    "        plt.title(f\"Hurricane Simulation - {conclusion}\", color='red')\n",
    "    else:\n",
    "        conclusion = \"Slope not significantly different from 0 (p >= 0.05)\"\n",
    "        plt.title(f\"Hurricane Simulation - {conclusion}\")\n",
    "    \n",
    "    plt.xlabel('Year')\n",
    "    plt.ylabel('Number of Hurricanes')\n",
    "    plt.legend()\n",
    "    \n",
    "    plt.show()"
   ]
  },
  {
   "cell_type": "code",
   "execution_count": 108,
   "metadata": {},
   "outputs": [],
   "source": [
    "def run_simulation(observed_df, slope, std, mean_hurricanes, first_sim_year=2024, time_range=30):\n",
    "    \"\"\"\n",
    "    Orchestrates the simulation and plotting of hurricane data.\n",
    "\n",
    "    Parameters:\n",
    "    df (pandas DataFrame): data containing observed hurricanes ('Year' and 'n_hurricanes').\n",
    "    slope (float or int): desired slope for the model.\n",
    "    time_range (int): number of years simulated.\n",
    "    \"\"\"\n",
    "    \n",
    "    simulated_data = simulate_hurricanes(slope=slope, std=std, mean_hurricanes=mean_hurricanes,\n",
    "                                         first_sim_year=first_sim_year, time_range=time_range)\n",
    "    df_extended = pd.concat([observed_df, simulated_data], ignore_index=True)\n",
    "    plot_data(df_extended, first_sim_year)\n",
    "    \n",
    "    return None"
   ]
  },
  {
   "cell_type": "code",
   "execution_count": 109,
   "metadata": {},
   "outputs": [],
   "source": [
    "def interactive_plot(observed_df, slope, std, mean_hurricanes, first_sim_year=2024, time_range=30):\n",
    "    \"\"\"\n",
    "    Interactive function to allow user to change the slope and time_range.\n",
    "    \"\"\"\n",
    "    run_simulation(observed_df=observed_df, slope=slope, std=std, mean_hurricanes=mean_hurricanes, first_sim_year=first_sim_year, time_range=time_range)"
   ]
  },
  {
   "cell_type": "code",
   "execution_count": 110,
   "metadata": {},
   "outputs": [],
   "source": [
    "df = pd.read_parquet('data/hurdat2.parquet')\n",
    "\n",
    "n_cyclones = df.groupby('Year')['CycloneID'].nunique().reset_index() \\\n",
    "               .rename({'CycloneID': 'n_hurricanes'}, axis=1)\n",
    "\n",
    "n_cyclones_filtered = n_cyclones.loc[n_cyclones['Year'] >= 1972, ['Year', 'n_hurricanes']]\n",
    "\n",
    "mean_hurricanes = n_cyclones_filtered['n_hurricanes'].mean()\n",
    "one_std = n_cyclones_filtered['n_hurricanes'].std()"
   ]
  },
  {
   "cell_type": "code",
   "execution_count": 111,
   "metadata": {},
   "outputs": [
    {
     "data": {
      "application/vnd.jupyter.widget-view+json": {
       "model_id": "a2ae87da2a7e4de1910ff73c72ead7de",
       "version_major": 2,
       "version_minor": 0
      },
      "text/plain": [
       "interactive(children=(FloatText(value=0.0, description='Slope:'), IntText(value=30, description='Time Range (y…"
      ]
     },
     "metadata": {},
     "output_type": "display_data"
    }
   ],
   "source": [
    "# create interactive widgets\n",
    "# slope_slider = widgets.FloatSlider(value=0, min=0, max=1, step=0.001, description='Slope:')\n",
    "# time_range_slider = widgets.IntSlider(value=30, min=5, max=100, step=1, description='Time Range (years):')\n",
    "\n",
    "slope_slider = widgets.FloatText(value=0, description='Slope:')\n",
    "time_range_slider = widgets.IntText(value=30, description='Time Range (years):')\n",
    "\n",
    "interactive_plot_widget = interactive(\n",
    "    interactive_plot,\n",
    "    first_sim_year=widgets.fixed(2024),\n",
    "    observed_df=widgets.fixed(n_cyclones_filtered),\n",
    "    slope=slope_slider,\n",
    "    std=widgets.fixed(one_std),\n",
    "    mean_hurricanes=widgets.fixed(mean_hurricanes),\n",
    "    time_range=time_range_slider\n",
    ")\n",
    "display(interactive_plot_widget)"
   ]
  },
  {
   "cell_type": "code",
   "execution_count": null,
   "metadata": {},
   "outputs": [],
   "source": []
  }
 ],
 "metadata": {
  "kernelspec": {
   "display_name": "geo_env",
   "language": "python",
   "name": "python3"
  },
  "language_info": {
   "codemirror_mode": {
    "name": "ipython",
    "version": 3
   },
   "file_extension": ".py",
   "mimetype": "text/x-python",
   "name": "python",
   "nbconvert_exporter": "python",
   "pygments_lexer": "ipython3",
   "version": "3.10.14"
  }
 },
 "nbformat": 4,
 "nbformat_minor": 2
}
