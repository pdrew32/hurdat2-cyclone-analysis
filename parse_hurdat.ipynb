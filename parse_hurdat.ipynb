{
 "cells": [
  {
   "cell_type": "code",
   "execution_count": 48,
   "metadata": {},
   "outputs": [],
   "source": [
    "import geopandas as gpd\n",
    "import pandas as pd\n",
    "import matplotlib.pyplot as plt\n",
    "import seaborn as sns"
   ]
  },
  {
   "cell_type": "code",
   "execution_count": 49,
   "metadata": {},
   "outputs": [],
   "source": [
    "HEADER_COLUMNS = ['basin_cycloneid', 'name', 'entries']"
   ]
  },
  {
   "cell_type": "code",
   "execution_count": 50,
   "metadata": {},
   "outputs": [],
   "source": [
    "def parse_header_line(line):\n",
    "    \"\"\"Parse a header line from the HURDAT2 dataset.\"\"\"\n",
    "    header_data = {\n",
    "        \"Basin\": line[0:2].strip(),               # Spaces 1-2\n",
    "        \"CycloneID\": line[2:4].strip(),           # Spaces 3-4\n",
    "        \"Year\": line[4:8].strip(),                # Spaces 5-8\n",
    "        \"Name\": line[18:28].strip(),              # Spaces 19-28\n",
    "        \"Entries\": line[33:36].strip()            # Spaces 34-36\n",
    "    }\n",
    "    return header_data"
   ]
  },
  {
   "cell_type": "code",
   "execution_count": 51,
   "metadata": {},
   "outputs": [],
   "source": [
    "def parse_data_line(line):\n",
    "    # Extract the fixed-width fields based on the provided format\n",
    "    parsed_data = {\n",
    "        \"Year\": line[0:4].strip(),\n",
    "        \"Month\": line[4:6].strip(),\n",
    "        \"Day\": line[6:8].strip(),\n",
    "        \"Hours\": line[10:12].strip(),\n",
    "        \"Minutes\": line[12:14].strip(),\n",
    "        \"RecordID\": line[16:17].strip(),\n",
    "        \"Status\": line[19:21].strip(),\n",
    "        \"Latitude\": line[23:27].strip(),\n",
    "        \"LatHemisphere\": line[27:28].strip(),\n",
    "        \"Longitude\": line[30:35].strip(),\n",
    "        \"LonHemisphere\": line[35:36].strip(),\n",
    "        \"MaxWind\": line[38:41].strip(),\n",
    "        \"MinPressure\": line[43:47].strip(),\n",
    "        \"34NE\": line[49:53].strip(),\n",
    "        \"34SE\": line[55:59].strip(),\n",
    "        \"34SW\": line[61:65].strip(),\n",
    "        \"34NW\": line[67:71].strip(),\n",
    "        \"50NE\": line[73:77].strip(),\n",
    "        \"50SE\": line[79:83].strip(),\n",
    "        \"50SW\": line[85:89].strip(),\n",
    "        \"50NW\": line[91:95].strip(),\n",
    "        \"64NE\": line[97:101].strip(),\n",
    "        \"64SE\": line[103:107].strip(),\n",
    "        \"64SW\": line[109:113].strip(),\n",
    "        \"64NW\": line[115:119].strip(),\n",
    "        \"RadiusMaxWind\": line[121:125].strip()\n",
    "    }\n",
    "    return parsed_data"
   ]
  },
  {
   "cell_type": "code",
   "execution_count": 52,
   "metadata": {},
   "outputs": [],
   "source": [
    "def convert_lat_lon(lat, lat_hem, lon, lon_hem):\n",
    "    # Convert latitude and longitude to decimal degrees\n",
    "    lat = float(lat) * (1 if lat_hem == 'N' else -1)\n",
    "    lon = float(lon) * (1 if lon_hem == 'E' else -1)\n",
    "    return lat, lon"
   ]
  },
  {
   "cell_type": "code",
   "execution_count": 53,
   "metadata": {},
   "outputs": [],
   "source": [
    "def parse_hurdat2(file_path):\n",
    "    data = []\n",
    "    with open(file_path, 'r') as file:\n",
    "        lines = file.readlines()\n",
    "        \n",
    "    i = 0\n",
    "    while i < len(lines):\n",
    "        line = lines[i].strip()\n",
    "        \n",
    "        # Identify header lines\n",
    "        if line.startswith('AL'):\n",
    "            # Parse the header line\n",
    "            header = parse_header_line(line)\n",
    "            header['Entries'] = int(header['Entries'])  # Convert Entries to an integer\n",
    "            i += 1  # Move to the next line\n",
    "            \n",
    "            # Process data lines associated with this header\n",
    "            for _ in range(header['Entries']):\n",
    "                data_line = lines[i].strip()\n",
    "                parsed_data = parse_data_line(data_line)\n",
    "                \n",
    "                # Convert latitude and longitude to decimal degrees\n",
    "                lat, lon = convert_lat_lon(parsed_data['Latitude'], parsed_data['LatHemisphere'], \n",
    "                                           parsed_data['Longitude'], parsed_data['LonHemisphere'])\n",
    "                \n",
    "                parsed_data['Latitude'] = lat\n",
    "                parsed_data['Longitude'] = lon\n",
    "                \n",
    "                # Combine header, parsed data, and geometry\n",
    "                combined_dict = {**header, **parsed_data}\n",
    "                data.append(combined_dict)\n",
    "                i += 1\n",
    "        else:\n",
    "            i += 1  # Skip lines that don't start with header identifiers\n",
    "            \n",
    "    # Convert to GeoDataFrame\n",
    "    gdf = gpd.GeoDataFrame(data)\n",
    "    \n",
    "    return gdf"
   ]
  },
  {
   "cell_type": "code",
   "execution_count": 54,
   "metadata": {},
   "outputs": [],
   "source": [
    "def test_entries_count(df):\n",
    "    \"\"\"\n",
    "    Test to check that the number of data entries for each cyclone matches the number in the Entries column.\n",
    "\n",
    "    Parameters:\n",
    "    df (pandas.DataFrame): The DataFrame containing the parsed HURDAT2 data.\n",
    "\n",
    "    Returns:\n",
    "    bool: True if all entries match, False otherwise.\n",
    "    \"\"\"\n",
    "\n",
    "    # Group the DataFrame by Basin_CycloneID and count the number of entries\n",
    "    grouped = df.groupby(['Basin', 'CycloneID', 'Year', 'Name']).size().reset_index(name='n_rows')\n",
    "\n",
    "    # Merge the count with the Entries column\n",
    "    merged = pd.merge(grouped, df[['Basin', 'CycloneID', 'Entries', 'Year', 'Name']].drop_duplicates(), \n",
    "                      on=['Basin', 'CycloneID', 'Year', 'Name'], how='left')\n",
    "\n",
    "    # Check if the counts match the Entries column\n",
    "    mismatch = merged[merged['n_rows'] != merged['Entries']]\n",
    "\n",
    "    if not mismatch.empty:\n",
    "        print(\"Mismatch found:\")\n",
    "        print(mismatch)\n",
    "        return False\n",
    "    else:\n",
    "        print(\"All entry counts match the Entries column.\")\n",
    "        return True\n"
   ]
  },
  {
   "cell_type": "code",
   "execution_count": 55,
   "metadata": {},
   "outputs": [],
   "source": [
    "df = parse_hurdat2('data/hurdat2-1851-2023-051124.txt')"
   ]
  },
  {
   "cell_type": "code",
   "execution_count": 56,
   "metadata": {},
   "outputs": [
    {
     "name": "stdout",
     "output_type": "stream",
     "text": [
      "Mismatch found:\n",
      "     Basin CycloneID  Year   Name  n_rows  Entries\n",
      "1768    AL        16  1954  ALICE       7       29\n",
      "1769    AL        16  1955  ALICE      22       29\n",
      "1972    AL        31  2005   ZETA       8       36\n",
      "1973    AL        31  2006   ZETA      28       36\n"
     ]
    },
    {
     "data": {
      "text/plain": [
       "False"
      ]
     },
     "execution_count": 56,
     "metadata": {},
     "output_type": "execute_result"
    }
   ],
   "source": [
    "test_entries_count(df)"
   ]
  },
  {
   "cell_type": "markdown",
   "metadata": {},
   "source": [
    "grouping by 'Basin', 'CycloneID', 'Year', and 'Name' reveals two pairs of hurricanes that are listed as the same hurricane but appear in subsequent years. These are the only two atlantic hurricanes to span two calendar years, so there is actually no issue here in our parse even though we get the warning from the test_entries_count() function."
   ]
  },
  {
   "cell_type": "markdown",
   "metadata": {},
   "source": [
    "Find columns with no variance, evaluate if they're useful columns, and if not remove."
   ]
  },
  {
   "cell_type": "code",
   "execution_count": 57,
   "metadata": {},
   "outputs": [
    {
     "data": {
      "text/html": [
       "<div>\n",
       "<style scoped>\n",
       "    .dataframe tbody tr th:only-of-type {\n",
       "        vertical-align: middle;\n",
       "    }\n",
       "\n",
       "    .dataframe tbody tr th {\n",
       "        vertical-align: top;\n",
       "    }\n",
       "\n",
       "    .dataframe thead th {\n",
       "        text-align: right;\n",
       "    }\n",
       "</style>\n",
       "<table border=\"1\" class=\"dataframe\">\n",
       "  <thead>\n",
       "    <tr style=\"text-align: right;\">\n",
       "      <th></th>\n",
       "      <th>Basin</th>\n",
       "      <th>LatHemisphere</th>\n",
       "    </tr>\n",
       "  </thead>\n",
       "  <tbody>\n",
       "    <tr>\n",
       "      <th>0</th>\n",
       "      <td>AL</td>\n",
       "      <td>N</td>\n",
       "    </tr>\n",
       "    <tr>\n",
       "      <th>1</th>\n",
       "      <td>AL</td>\n",
       "      <td>N</td>\n",
       "    </tr>\n",
       "    <tr>\n",
       "      <th>2</th>\n",
       "      <td>AL</td>\n",
       "      <td>N</td>\n",
       "    </tr>\n",
       "    <tr>\n",
       "      <th>3</th>\n",
       "      <td>AL</td>\n",
       "      <td>N</td>\n",
       "    </tr>\n",
       "    <tr>\n",
       "      <th>4</th>\n",
       "      <td>AL</td>\n",
       "      <td>N</td>\n",
       "    </tr>\n",
       "    <tr>\n",
       "      <th>...</th>\n",
       "      <td>...</td>\n",
       "      <td>...</td>\n",
       "    </tr>\n",
       "    <tr>\n",
       "      <th>54744</th>\n",
       "      <td>AL</td>\n",
       "      <td>N</td>\n",
       "    </tr>\n",
       "    <tr>\n",
       "      <th>54745</th>\n",
       "      <td>AL</td>\n",
       "      <td>N</td>\n",
       "    </tr>\n",
       "    <tr>\n",
       "      <th>54746</th>\n",
       "      <td>AL</td>\n",
       "      <td>N</td>\n",
       "    </tr>\n",
       "    <tr>\n",
       "      <th>54747</th>\n",
       "      <td>AL</td>\n",
       "      <td>N</td>\n",
       "    </tr>\n",
       "    <tr>\n",
       "      <th>54748</th>\n",
       "      <td>AL</td>\n",
       "      <td>N</td>\n",
       "    </tr>\n",
       "  </tbody>\n",
       "</table>\n",
       "<p>54749 rows × 2 columns</p>\n",
       "</div>"
      ],
      "text/plain": [
       "      Basin LatHemisphere\n",
       "0        AL             N\n",
       "1        AL             N\n",
       "2        AL             N\n",
       "3        AL             N\n",
       "4        AL             N\n",
       "...     ...           ...\n",
       "54744    AL             N\n",
       "54745    AL             N\n",
       "54746    AL             N\n",
       "54747    AL             N\n",
       "54748    AL             N\n",
       "\n",
       "[54749 rows x 2 columns]"
      ]
     },
     "execution_count": 57,
     "metadata": {},
     "output_type": "execute_result"
    }
   ],
   "source": [
    "df.loc[:, df.nunique() == 1]"
   ]
  },
  {
   "cell_type": "markdown",
   "metadata": {},
   "source": [
    "all hurricanes are in the atlantic basin and above the equator. Let's remove these columns since they're not informative."
   ]
  },
  {
   "cell_type": "code",
   "execution_count": 58,
   "metadata": {},
   "outputs": [],
   "source": [
    "df = df.loc[:, df.nunique() > 1]"
   ]
  },
  {
   "cell_type": "code",
   "execution_count": 59,
   "metadata": {},
   "outputs": [
    {
     "data": {
      "text/plain": [
       "Index(['CycloneID', 'Year', 'Name', 'Month', 'Day', 'Hours', 'Minutes',\n",
       "       'RecordID', 'Status', 'LonHemisphere', 'MaxWind', 'MinPressure', '34NE',\n",
       "       '34SE', '34SW', '34NW', '50NE', '50SE', '50SW', '50NW', '64NE', '64SE',\n",
       "       '64SW', '64NW', 'RadiusMaxWind'],\n",
       "      dtype='object')"
      ]
     },
     "execution_count": 59,
     "metadata": {},
     "output_type": "execute_result"
    }
   ],
   "source": [
    "df.select_dtypes('object').columns"
   ]
  },
  {
   "cell_type": "code",
   "execution_count": 60,
   "metadata": {},
   "outputs": [],
   "source": [
    "# type cast columns\n",
    "df['CycloneID'] = df['CycloneID'].astype('string')\n",
    "df['Year'] = df['Year'].astype(int)\n",
    "df['Name'] = df['Name'].astype('string')\n",
    "df['Month'] = df['Month'].astype(int)\n",
    "df['Day'] = df['Day'].astype(int)\n",
    "df['Hours'] = df['Hours'].astype(int)\n",
    "df['Minutes'] = df['Minutes'].astype(int)\n",
    "df['RecordID'] = df['RecordID'].astype('string')\n",
    "df['Status'] = df['Status'].astype('string')\n",
    "df['LonHemisphere'] = df['LonHemisphere'].astype('string')\n",
    "df['MaxWind'] = pd.to_numeric(df['MaxWind'], errors='coerce')\n",
    "df['MinPressure'] = pd.to_numeric(df['MinPressure'], errors='coerce')\n",
    "df[['34NE', '34SE', '34SW', '34NW', \n",
    "    '50NE', '50SE', '50SW', '50NW', \n",
    "    '64NE', '64SE', '64SW', '64NW', \n",
    "    'RadiusMaxWind']] = df[['34NE', '34SE', '34SW', '34NW', \n",
    "                            '50NE', '50SE', '50SW', '50NW', \n",
    "                            '64NE', '64SE', '64SW', '64NW', \n",
    "                            'RadiusMaxWind']].apply(pd.to_numeric, errors='coerce')"
   ]
  },
  {
   "cell_type": "code",
   "execution_count": 61,
   "metadata": {},
   "outputs": [
    {
     "name": "stdout",
     "output_type": "stream",
     "text": [
      "<class 'pandas.core.frame.DataFrame'>\n",
      "RangeIndex: 54749 entries, 0 to 54748\n",
      "Data columns (total 28 columns):\n",
      " #   Column         Non-Null Count  Dtype  \n",
      "---  ------         --------------  -----  \n",
      " 0   CycloneID      54749 non-null  string \n",
      " 1   Year           54749 non-null  int32  \n",
      " 2   Name           54749 non-null  string \n",
      " 3   Entries        54749 non-null  int64  \n",
      " 4   Month          54749 non-null  int32  \n",
      " 5   Day            54749 non-null  int32  \n",
      " 6   Hours          54749 non-null  int32  \n",
      " 7   Minutes        54749 non-null  int32  \n",
      " 8   RecordID       54749 non-null  string \n",
      " 9   Status         54749 non-null  string \n",
      " 10  Latitude       54749 non-null  float64\n",
      " 11  Longitude      54749 non-null  float64\n",
      " 12  LonHemisphere  54749 non-null  string \n",
      " 13  MaxWind        54749 non-null  int64  \n",
      " 14  MinPressure    54749 non-null  int64  \n",
      " 15  34NE           54749 non-null  int64  \n",
      " 16  34SE           54749 non-null  int64  \n",
      " 17  34SW           54749 non-null  int64  \n",
      " 18  34NW           54749 non-null  int64  \n",
      " 19  50NE           54749 non-null  int64  \n",
      " 20  50SE           54749 non-null  int64  \n",
      " 21  50SW           54749 non-null  int64  \n",
      " 22  50NW           54749 non-null  int64  \n",
      " 23  64NE           54749 non-null  int64  \n",
      " 24  64SE           54749 non-null  int64  \n",
      " 25  64SW           54749 non-null  int64  \n",
      " 26  64NW           54749 non-null  int64  \n",
      " 27  RadiusMaxWind  54749 non-null  int64  \n",
      "dtypes: float64(2), int32(5), int64(16), string(5)\n",
      "memory usage: 10.7 MB\n"
     ]
    }
   ],
   "source": [
    "df.info()"
   ]
  },
  {
   "cell_type": "code",
   "execution_count": 62,
   "metadata": {},
   "outputs": [
    {
     "data": {
      "text/plain": [
       "<StringArray>\n",
       "['HU', 'TS', 'EX', 'TD', 'LO', 'DB', 'SS', 'SD', 'WV']\n",
       "Length: 9, dtype: string"
      ]
     },
     "execution_count": 62,
     "metadata": {},
     "output_type": "execute_result"
    }
   ],
   "source": [
    "df['Status'].unique()"
   ]
  },
  {
   "cell_type": "markdown",
   "metadata": {},
   "source": [
    "Status of system. Options are:\n",
    "\n",
    "1. TD – Tropical cyclone of tropical depression intensity (< 34 knots)\n",
    "2. TS – Tropical cyclone of tropical storm intensity (34-63 knots)\n",
    "3. HU – Tropical cyclone of hurricane intensity (> 64 knots)\n",
    "4. EX – Extratropical cyclone (of any intensity)\n",
    "5. SD – Subtropical cyclone of subtropical depression intensity (< 34 knots)\n",
    "6. SS – Subtropical cyclone of subtropical storm intensity (> 34 knots)\n",
    "7. LO – A low that is neither a tropical cyclone, a subtropical cyclone, nor an extratropical cyclone (of any intensity)\n",
    "8. WV – Tropical Wave (of any intensity)\n",
    "9. DB – Disturbance (of any intensity)"
   ]
  },
  {
   "cell_type": "markdown",
   "metadata": {},
   "source": [
    "combine dates/times into datetimes"
   ]
  },
  {
   "cell_type": "code",
   "execution_count": 63,
   "metadata": {},
   "outputs": [],
   "source": [
    "df['Datetime'] = pd.to_datetime(df[['Year', 'Month', 'Day', 'Hours', 'Minutes']])"
   ]
  },
  {
   "cell_type": "code",
   "execution_count": 64,
   "metadata": {},
   "outputs": [
    {
     "data": {
      "text/plain": [
       "0   1851-06-25 00:00:00\n",
       "1   1851-06-25 06:00:00\n",
       "2   1851-06-25 12:00:00\n",
       "3   1851-06-25 18:00:00\n",
       "4   1851-06-25 21:00:00\n",
       "Name: Datetime, dtype: datetime64[ns]"
      ]
     },
     "execution_count": 64,
     "metadata": {},
     "output_type": "execute_result"
    }
   ],
   "source": [
    "df['Datetime'].head()"
   ]
  },
  {
   "cell_type": "markdown",
   "metadata": {},
   "source": [
    "save to parquet"
   ]
  },
  {
   "cell_type": "code",
   "execution_count": 65,
   "metadata": {},
   "outputs": [
    {
     "data": {
      "text/plain": [
       "<StringArray>\n",
       "[   'UNNAMED',       'ABLE',      'BAKER',    'CHARLIE',        'DOG',\n",
       "       'EASY',        'FOX',     'GEORGE',        'HOW',       'ITEM',\n",
       " ...\n",
       "     'TERESA',     'VICTOR',      'WANDA',     'TWELVE',     'MARTIN',\n",
       "     'HAROLD',     'IDALIA',     'MARGOT',      'NIGEL', 'TWENTY-ONE']\n",
       "Length: 319, dtype: string"
      ]
     },
     "execution_count": 65,
     "metadata": {},
     "output_type": "execute_result"
    }
   ],
   "source": [
    "df.Name.unique()"
   ]
  },
  {
   "cell_type": "code",
   "execution_count": 66,
   "metadata": {},
   "outputs": [],
   "source": [
    "df.to_parquet('data/hurdat2.parquet')"
   ]
  },
  {
   "cell_type": "code",
   "execution_count": null,
   "metadata": {},
   "outputs": [],
   "source": []
  }
 ],
 "metadata": {
  "kernelspec": {
   "display_name": "github",
   "language": "python",
   "name": "python3"
  },
  "language_info": {
   "codemirror_mode": {
    "name": "ipython",
    "version": 3
   },
   "file_extension": ".py",
   "mimetype": "text/x-python",
   "name": "python",
   "nbconvert_exporter": "python",
   "pygments_lexer": "ipython3",
   "version": "3.10.14"
  }
 },
 "nbformat": 4,
 "nbformat_minor": 2
}
